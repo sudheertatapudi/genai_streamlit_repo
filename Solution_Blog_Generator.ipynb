{
  "nbformat": 4,
  "nbformat_minor": 0,
  "metadata": {
    "colab": {
      "provenance": [],
      "include_colab_link": true
    },
    "kernelspec": {
      "name": "python3",
      "display_name": "Python 3"
    },
    "language_info": {
      "name": "python"
    }
  },
  "cells": [
    {
      "cell_type": "markdown",
      "metadata": {
        "id": "view-in-github",
        "colab_type": "text"
      },
      "source": [
        "<a href=\"https://colab.research.google.com/github/sudheertatapudi/genai_streamlit_repo/blob/main/Solution_Blog_Generator.ipynb\" target=\"_parent\"><img src=\"https://colab.research.google.com/assets/colab-badge.svg\" alt=\"Open In Colab\"/></a>"
      ]
    },
    {
      "cell_type": "markdown",
      "source": [
        "# Project 1: Blog Generator with OpenAI API\n",
        "\n",
        "Welcome to the first project of our course! In this section, we'll embark on an exciting journey to build a Blog Generator using the powerful OpenAI API. Our goal is to create an intelligent system capable of generating engaging and coherent blog content with just a prompt from the user. This project will not only introduce you to the world of AI-driven content creation but also demonstrate the practical application of the OpenAI API within a real-world scenario.\n",
        "\n",
        "## What You Will Learn\n",
        "\n",
        "- **OpenAI API Overview**: Gain a solid understanding of the OpenAI API and its capabilities for natural language processing and generation.\n",
        "- **Setting Up Google Colab**: Familiarize yourself with Google Colab, an ideal platform for running Python code and integrating APIs in a cloud-based environment.\n",
        "- **Prompt Engineering**: Develop skills in crafting prompts that guide the AI to produce the desired output, a critical aspect of leveraging generative language models.\n",
        "- **Content Generation**: Understand how to generate text that is coherent, contextually relevant, and stylistically appropriate for blog posts.\n",
        "\n",
        "## Project Objectives\n",
        "\n",
        "By the end of this project, you will have created a Blog Generator that can:\n",
        "\n",
        "1. **Take User Input**: Accept user-defined prompts or topics to generate content about.\n",
        "2. **Generate Blog Posts**: Produce complete blog posts that are ready for publication, including titles, headers, and paragraphs.\n",
        "3. **Display Results**: Present the generated blog posts in a clear and organized format within Google Colab.\n",
        "\n",
        "## Before We Start\n",
        "\n",
        "Make sure you have:\n",
        "- A Google Colab account set up.\n",
        "- Basic knowledge of Python programming.\n",
        "- An OpenAI API key (you can obtain one from [OpenAI](https://platform.openai.com/account/api-keys)).\n",
        "\n",
        "## Let's Build!\n",
        "\n",
        "Are you ready to dive into the world of AI and transform the way blog content is created? Let's get started on building your very own Blog Generator using the OpenAI API!\n",
        "\n"
      ],
      "metadata": {
        "id": "vUehOJlORE-j"
      }
    },
    {
      "cell_type": "markdown",
      "source": [
        "# 2. Libraries import"
      ],
      "metadata": {
        "id": "NDlbXftjSHdL"
      }
    },
    {
      "cell_type": "code",
      "source": [],
      "metadata": {
        "id": "FcUdMROmBGtv"
      },
      "execution_count": null,
      "outputs": []
    },
    {
      "cell_type": "code",
      "source": [
        "!pip install openai"
      ],
      "metadata": {
        "colab": {
          "base_uri": "https://localhost:8080/"
        },
        "id": "KTBw517ySLF2",
        "outputId": "d3485828-958e-4e06-eee3-26c352f9169d"
      },
      "execution_count": null,
      "outputs": [
        {
          "output_type": "stream",
          "name": "stdout",
          "text": [
            "Collecting openai\n",
            "  Downloading openai-1.0.1-py3-none-any.whl (153 kB)\n",
            "\u001b[?25l     \u001b[90m━━━━━━━━━━━━━━━━━━━━━━━━━━━━━━━━━━━━━━━━\u001b[0m \u001b[32m0.0/153.9 kB\u001b[0m \u001b[31m?\u001b[0m eta \u001b[36m-:--:--\u001b[0m\r\u001b[2K     \u001b[91m━━━━━━━━━━━━━━━━━━━━━━━━━━━━━━━━━━━━━━━\u001b[0m\u001b[91m╸\u001b[0m \u001b[32m153.6/153.9 kB\u001b[0m \u001b[31m5.4 MB/s\u001b[0m eta \u001b[36m0:00:01\u001b[0m\r\u001b[2K     \u001b[90m━━━━━━━━━━━━━━━━━━━━━━━━━━━━━━━━━━━━━━━━\u001b[0m \u001b[32m153.9/153.9 kB\u001b[0m \u001b[31m4.0 MB/s\u001b[0m eta \u001b[36m0:00:00\u001b[0m\n",
            "\u001b[?25hRequirement already satisfied: anyio<4,>=3.5.0 in /usr/local/lib/python3.10/dist-packages (from openai) (3.7.1)\n",
            "Requirement already satisfied: distro<2,>=1.7.0 in /usr/lib/python3/dist-packages (from openai) (1.7.0)\n",
            "Collecting httpx<1,>=0.23.0 (from openai)\n",
            "  Downloading httpx-0.25.1-py3-none-any.whl (75 kB)\n",
            "\u001b[2K     \u001b[90m━━━━━━━━━━━━━━━━━━━━━━━━━━━━━━━━━━━━━━━━\u001b[0m \u001b[32m75.0/75.0 kB\u001b[0m \u001b[31m6.0 MB/s\u001b[0m eta \u001b[36m0:00:00\u001b[0m\n",
            "\u001b[?25hRequirement already satisfied: pydantic<3,>=1.9.0 in /usr/local/lib/python3.10/dist-packages (from openai) (1.10.13)\n",
            "Requirement already satisfied: tqdm>4 in /usr/local/lib/python3.10/dist-packages (from openai) (4.66.1)\n",
            "Requirement already satisfied: typing-extensions<5,>=4.5 in /usr/local/lib/python3.10/dist-packages (from openai) (4.5.0)\n",
            "Requirement already satisfied: idna>=2.8 in /usr/local/lib/python3.10/dist-packages (from anyio<4,>=3.5.0->openai) (3.4)\n",
            "Requirement already satisfied: sniffio>=1.1 in /usr/local/lib/python3.10/dist-packages (from anyio<4,>=3.5.0->openai) (1.3.0)\n",
            "Requirement already satisfied: exceptiongroup in /usr/local/lib/python3.10/dist-packages (from anyio<4,>=3.5.0->openai) (1.1.3)\n",
            "Requirement already satisfied: certifi in /usr/local/lib/python3.10/dist-packages (from httpx<1,>=0.23.0->openai) (2023.7.22)\n",
            "Collecting httpcore (from httpx<1,>=0.23.0->openai)\n",
            "  Downloading httpcore-1.0.1-py3-none-any.whl (76 kB)\n",
            "\u001b[2K     \u001b[90m━━━━━━━━━━━━━━━━━━━━━━━━━━━━━━━━━━━━━━━━\u001b[0m \u001b[32m76.9/76.9 kB\u001b[0m \u001b[31m6.9 MB/s\u001b[0m eta \u001b[36m0:00:00\u001b[0m\n",
            "\u001b[?25hCollecting h11<0.15,>=0.13 (from httpcore->httpx<1,>=0.23.0->openai)\n",
            "  Downloading h11-0.14.0-py3-none-any.whl (58 kB)\n",
            "\u001b[2K     \u001b[90m━━━━━━━━━━━━━━━━━━━━━━━━━━━━━━━━━━━━━━━━\u001b[0m \u001b[32m58.3/58.3 kB\u001b[0m \u001b[31m6.6 MB/s\u001b[0m eta \u001b[36m0:00:00\u001b[0m\n",
            "\u001b[?25hInstalling collected packages: h11, httpcore, httpx, openai\n",
            "\u001b[31mERROR: pip's dependency resolver does not currently take into account all the packages that are installed. This behaviour is the source of the following dependency conflicts.\n",
            "llmx 0.0.15a0 requires cohere, which is not installed.\n",
            "llmx 0.0.15a0 requires tiktoken, which is not installed.\u001b[0m\u001b[31m\n",
            "\u001b[0mSuccessfully installed h11-0.14.0 httpcore-1.0.1 httpx-0.25.1 openai-1.0.1\n"
          ]
        }
      ]
    },
    {
      "cell_type": "code",
      "execution_count": null,
      "metadata": {
        "id": "lYFNyycCQ2p-"
      },
      "outputs": [],
      "source": [
        "import os\n",
        "import openai\n",
        "\n",
        "from openai import OpenAI"
      ]
    },
    {
      "cell_type": "markdown",
      "source": [
        "# 3. Sending a first request to OpenAI API\n",
        "\n",
        "\n",
        "### 3.1 Setting up API Key"
      ],
      "metadata": {
        "id": "TwaQS_nXSQxf"
      }
    },
    {
      "cell_type": "code",
      "source": [
        "os.environ[\"OPENAI_API_KEY\"] = \"sk-\"\n",
        "client = OpenAI()"
      ],
      "metadata": {
        "id": "btc16h6ySPFA"
      },
      "execution_count": null,
      "outputs": []
    },
    {
      "cell_type": "markdown",
      "source": [
        "### 3.2 OpenAI available models"
      ],
      "metadata": {
        "id": "i7Woy2IBTJ2Y"
      }
    },
    {
      "cell_type": "code",
      "source": [
        "print(client.models.list())"
      ],
      "metadata": {
        "colab": {
          "base_uri": "https://localhost:8080/"
        },
        "id": "Yi2MpDWIS5UR",
        "outputId": "4d3fbaf0-6167-4220-8966-6c63db31f4f9"
      },
      "execution_count": null,
      "outputs": [
        {
          "output_type": "stream",
          "name": "stdout",
          "text": [
            "SyncPage[Model](data=[Model(id='text-search-babbage-doc-001', created=1651172509, object='model', owned_by='openai-dev'), Model(id='gpt-3.5-turbo-16k-0613', created=1685474247, object='model', owned_by='openai'), Model(id='curie-search-query', created=1651172509, object='model', owned_by='openai-dev'), Model(id='gpt-3.5-turbo-16k', created=1683758102, object='model', owned_by='openai-internal'), Model(id='text-search-babbage-query-001', created=1651172509, object='model', owned_by='openai-dev'), Model(id='babbage', created=1649358449, object='model', owned_by='openai'), Model(id='babbage-search-query', created=1651172509, object='model', owned_by='openai-dev'), Model(id='text-babbage-001', created=1649364043, object='model', owned_by='openai'), Model(id='whisper-1', created=1677532384, object='model', owned_by='openai-internal'), Model(id='text-similarity-davinci-001', created=1651172505, object='model', owned_by='openai-dev'), Model(id='gpt-4-1106-preview', created=1698957206, object='model', owned_by='system'), Model(id='davinci-similarity', created=1651172509, object='model', owned_by='openai-dev'), Model(id='code-davinci-edit-001', created=1649880484, object='model', owned_by='openai'), Model(id='curie-similarity', created=1651172510, object='model', owned_by='openai-dev'), Model(id='babbage-search-document', created=1651172510, object='model', owned_by='openai-dev'), Model(id='curie-instruct-beta', created=1649364042, object='model', owned_by='openai'), Model(id='text-search-ada-doc-001', created=1651172507, object='model', owned_by='openai-dev'), Model(id='davinci-instruct-beta', created=1649364042, object='model', owned_by='openai'), Model(id='gpt-4', created=1687882411, object='model', owned_by='openai'), Model(id='text-similarity-babbage-001', created=1651172505, object='model', owned_by='openai-dev'), Model(id='text-search-davinci-doc-001', created=1651172505, object='model', owned_by='openai-dev'), Model(id='babbage-similarity', created=1651172505, object='model', owned_by='openai-dev'), Model(id='text-embedding-ada-002', created=1671217299, object='model', owned_by='openai-internal'), Model(id='davinci-search-query', created=1651172505, object='model', owned_by='openai-dev'), Model(id='gpt-4-vision-preview', created=1698894917, object='model', owned_by='system'), Model(id='text-similarity-curie-001', created=1651172507, object='model', owned_by='openai-dev'), Model(id='text-davinci-001', created=1649364042, object='model', owned_by='openai'), Model(id='text-search-davinci-query-001', created=1651172505, object='model', owned_by='openai-dev'), Model(id='dall-e-3', created=1698785189, object='model', owned_by='system'), Model(id='ada-search-document', created=1651172507, object='model', owned_by='openai-dev'), Model(id='ada-code-search-code', created=1651172505, object='model', owned_by='openai-dev'), Model(id='babbage-002', created=1692634615, object='model', owned_by='system'), Model(id='davinci-002', created=1692634301, object='model', owned_by='system'), Model(id='tts-1', created=1681940951, object='model', owned_by='openai-internal'), Model(id='davinci-search-document', created=1651172509, object='model', owned_by='openai-dev'), Model(id='curie-search-document', created=1651172508, object='model', owned_by='openai-dev'), Model(id='babbage-code-search-code', created=1651172509, object='model', owned_by='openai-dev'), Model(id='text-search-ada-query-001', created=1651172505, object='model', owned_by='openai-dev'), Model(id='code-search-ada-text-001', created=1651172507, object='model', owned_by='openai-dev'), Model(id='babbage-code-search-text', created=1651172509, object='model', owned_by='openai-dev'), Model(id='code-search-babbage-code-001', created=1651172507, object='model', owned_by='openai-dev'), Model(id='ada-search-query', created=1651172505, object='model', owned_by='openai-dev'), Model(id='ada-code-search-text', created=1651172510, object='model', owned_by='openai-dev'), Model(id='text-search-curie-query-001', created=1651172509, object='model', owned_by='openai-dev'), Model(id='text-davinci-002', created=1649880484, object='model', owned_by='openai'), Model(id='text-davinci-edit-001', created=1649809179, object='model', owned_by='openai'), Model(id='code-search-babbage-text-001', created=1651172507, object='model', owned_by='openai-dev'), Model(id='gpt-3.5-turbo', created=1677610602, object='model', owned_by='openai'), Model(id='gpt-3.5-turbo-instruct-0914', created=1694122472, object='model', owned_by='system'), Model(id='ada', created=1649357491, object='model', owned_by='openai'), Model(id='text-ada-001', created=1649364042, object='model', owned_by='openai'), Model(id='ada-similarity', created=1651172507, object='model', owned_by='openai-dev'), Model(id='code-search-ada-code-001', created=1651172507, object='model', owned_by='openai-dev'), Model(id='text-similarity-ada-001', created=1651172505, object='model', owned_by='openai-dev'), Model(id='gpt-3.5-turbo-0301', created=1677649963, object='model', owned_by='openai'), Model(id='gpt-3.5-turbo-instruct', created=1692901427, object='model', owned_by='system'), Model(id='text-search-curie-doc-001', created=1651172509, object='model', owned_by='openai-dev'), Model(id='text-davinci-003', created=1669599635, object='model', owned_by='openai-internal'), Model(id='gpt-4-0613', created=1686588896, object='model', owned_by='openai'), Model(id='text-curie-001', created=1649364043, object='model', owned_by='openai'), Model(id='curie', created=1649359874, object='model', owned_by='openai'), Model(id='gpt-4-0314', created=1687882410, object='model', owned_by='openai'), Model(id='davinci', created=1649359874, object='model', owned_by='openai'), Model(id='dall-e-2', created=1698798177, object='model', owned_by='system'), Model(id='gpt-3.5-turbo-0613', created=1686587434, object='model', owned_by='openai'), Model(id='ft:gpt-3.5-turbo-0613:datablooz::86M1R6or', created=1696525313, object='model', owned_by='datablooz')], object='list')\n"
          ]
        }
      ]
    },
    {
      "cell_type": "markdown",
      "source": [
        "Find about the Completion endpoint and all of its arguments: https://platform.openai.com/docs/api-reference/completions/create"
      ],
      "metadata": {
        "id": "JtpBCMAeUF6o"
      }
    },
    {
      "cell_type": "code",
      "source": [
        "client.completions.create(\n",
        "    model=\"gpt-3.5-turbo-instruct\",\n",
        "    prompt=\"Tell me about the sky\",\n",
        ")"
      ],
      "metadata": {
        "colab": {
          "base_uri": "https://localhost:8080/"
        },
        "id": "Ch6chVYoTRyq",
        "outputId": "86bc767c-52d5-450b-f28f-48d94ee8e6f6"
      },
      "execution_count": null,
      "outputs": [
        {
          "output_type": "execute_result",
          "data": {
            "text/plain": [
              "Completion(id='cmpl-8I0O75AVJCqnwauVN0fLwwxriuJfy', choices=[CompletionChoice(finish_reason='length', index=0, logprobs=None, text='diving experience\\n\\nSkydiving is an exhilarating recreational activity that involves jumping')], created=1699302087, model='gpt-3.5-turbo-instruct', object='text_completion', usage=CompletionUsage(completion_tokens=16, prompt_tokens=5, total_tokens=21))"
            ]
          },
          "metadata": {},
          "execution_count": 8
        }
      ]
    },
    {
      "cell_type": "markdown",
      "source": [
        "# 4. Building our Blog generator"
      ],
      "metadata": {
        "id": "9_OjVDWsUe4n"
      }
    },
    {
      "cell_type": "code",
      "source": [
        "response = client.completions.create(\n",
        "    model=\"gpt-3.5-turbo-instruct\",\n",
        "    prompt=\"Generate a blog about GTA 5\",\n",
        "    temperature=1,\n",
        "    max_tokens=700,\n",
        ")"
      ],
      "metadata": {
        "id": "XW3sF_EmTbtr"
      },
      "execution_count": null,
      "outputs": []
    },
    {
      "cell_type": "code",
      "source": [
        "prompt = \"\"\"\n",
        "You are a copy writer with years of experience writing impactful blog that converge and help elevate brands.\n",
        "Your task is to write a blog on any topic system provides you with. Make sure to write in a format that works for Medium.\n",
        "Each blog should be separated into segments that have titles and subtitles. Each paragraph should be three sentences long.\n",
        "\n",
        "Topic: GTA 6\n",
        "Additiona pointers: None\n",
        "\"\"\"\n",
        "\n",
        "response = client.completions.create(\n",
        "    model=\"gpt-3.5-turbo-instruct\",\n",
        "    prompt=prompt,\n",
        "    temperature=1,\n",
        "    max_tokens=700,\n",
        ")"
      ],
      "metadata": {
        "id": "msr1bpSNUsZ9"
      },
      "execution_count": null,
      "outputs": []
    },
    {
      "cell_type": "code",
      "source": [
        "print(response.choices[0].text)"
      ],
      "metadata": {
        "colab": {
          "base_uri": "https://localhost:8080/"
        },
        "id": "yX8hooEwVRBm",
        "outputId": "13390992-d048-4727-a9cb-713f3b431587"
      },
      "execution_count": null,
      "outputs": [
        {
          "output_type": "stream",
          "name": "stdout",
          "text": [
            "\n",
            "Title: \"GTA 6: Next Level Gaming Experience\"\n",
            "\n",
            "Subtitle: \"Why The Next Grand Theft Auto Game Will Be A Game Changer\"\n",
            "\n",
            "The Grand Theft Auto franchise has captivated gamers around the world for over two decades. With each new release, the game has pushed the boundaries of storytelling, graphics, and gameplay. However, it has been over 7 years since the release of GTA V, and fans have been eagerly waiting for the next installment. Rumors and speculation have been circulating about the highly anticipated GTA 6, and from what we know so far, it is set to take the gaming experience to a whole new level.\n",
            "\n",
            "Subtitle: \"Next-Gen Graphics and Technology\"\n",
            "\n",
            "One of the most exciting aspects of GTA 6 is the potential for next-gen graphics and technology. With the release of the Playstation 5 and Xbox Series X, game developers now have the ability to create more realistic and immersive worlds. From lifelike character animations to detailed environments, gamers can expect to be completely immersed in the world of GTA 6. The latest technology will also allow for a more seamless and fluid gameplay experience, making it feel like you're actually living in the game.\n",
            "\n",
            "Subtitle: \"Multiple Locations, One Game\"\n",
            "\n",
            "Previous GTA games have been set in one main city, with the addition of smaller locations. However, rumors suggest that GTA 6 will feature multiple cities and locations, all in one game. This means players will have a larger map to explore, with different environments and aesthetics. This is a significant departure from previous GTA games and will add a new level of excitement and diversity to the gameplay.\n",
            "\n",
            "Subtitle: \"A Fresh Take on Storytelling\"\n",
            "\n",
            "The GTA franchise has always been known for its gripping and controversial storytelling. With GTA 6, we can expect Rockstar Games to continue pushing the boundaries and creating a fresh take on storytelling. Rumors suggest that the game will feature a female protagonist, something that has never been done before in the series. This will not only bring a new perspective to the game but also open doors for new and exciting storylines.\n",
            "\n",
            "Subtitle: \"Endless Possibilities with Next-Gen Consoles\"\n",
            "\n",
            "The release of next-gen consoles means that developers now have the power to create bigger and better games. This means that GTA 6 will have endless possibilities in terms of gameplay and features. From realistic weather and day-night cycles to improved AI and physics, the game will undoubtedly offer an immersive and dynamic experience. This, combined with the increased memory and storage capabilities of next-gen consoles, means that players can expect a more extensive and detailed world to explore.\n",
            "\n",
            "Subtitle: \"The Perfect Blend of Old and New\"\n",
            "\n",
            "Despite all the new features and advancements, GTA 6 will still stay true to its roots. The game is expected to feature the iconic open-world sandbox style that fans have grown to love. This, combined with next-gen technology, means that players can expect the perfect blend of old and new. GTA 6 will satisfy longtime fans while also attracting a whole new audience with its cutting-edge gameplay and graphics.\n",
            "\n",
            "Subtitle: \"In Conclusion\"\n",
            "\n",
            "In conclusion, GTA 6 is set to be the next level in gaming experience. With next-gen graphics and technology, multiple locations, and a fresh take on storytelling, the game will push the boundaries and set a new standard for open-world games. Rockstar Games has kept fans waiting for a long time, but if the rumors are true, the wait will undoubtedly be worth it.\n"
          ]
        }
      ]
    },
    {
      "cell_type": "markdown",
      "source": [
        "### 4.2 Accepting user inputs"
      ],
      "metadata": {
        "id": "gdGX-w1CVxGx"
      }
    },
    {
      "cell_type": "code",
      "source": [
        "topic = input(\"Enter a topic: \")\n",
        "additional_pointers = input(\"Enter any additional pointers, if any: \")\n",
        "\n",
        "prompt = f\"\"\"\n",
        "You are a copy writer with years of experience writing impactful blog that converge and help elevate brands.\n",
        "Your task is to write a blog on any topic system provides you with. Make sure to write in a format that works for Medium.\n",
        "Each blog should be separated into segments that have titles and subtitles. Each paragraph should be three sentences long.\n",
        "\n",
        "Topic: {topic}\n",
        "Additiona pointers: {additional_pointers}\n",
        "\"\"\"\n",
        "\n",
        "response = client.completions.create(\n",
        "    model=\"gpt-3.5-turbo-instruct\",\n",
        "    prompt=prompt,\n",
        "    temperature=1,\n",
        "    max_tokens=700,\n",
        ")\n",
        "\n",
        "print(response.choices[0].text)"
      ],
      "metadata": {
        "colab": {
          "base_uri": "https://localhost:8080/"
        },
        "id": "SFhM14-NVUqJ",
        "outputId": "297780c1-462d-4fdf-b5ae-c31a2db75384"
      },
      "execution_count": null,
      "outputs": [
        {
          "output_type": "stream",
          "name": "stdout",
          "text": [
            "Enter a topic: AI and future of humanity\n",
            "Enter any additional pointers, if any: \n",
            "\n",
            "Title: The Unavoidable Truth: How AI is Shaping the Future of Humanity\n",
            "\n",
            "Subtitle: Understanding the Current State of AI and its Potential Impact on Society\n",
            "\n",
            "In today's rapidly advancing world, the integration of artificial intelligence (AI) is becoming more prevalent in our daily lives. From virtual assistants to self-driving cars, AI technology is transforming the way we live and work. While it offers countless benefits, it also brings about concerns and questions regarding its impact on humanity. It's time to delve deeper into the current state of AI and how it could shape our future.\n",
            "\n",
            "Subtitle: The Evolution of AI: From Automation to Human-Like Intelligence\n",
            "\n",
            "AI has come a long way since its inception in the 1950s. Initially, it was used for automating routine tasks and data analysis, but it has now evolved to mimic human-like intelligence through machine learning and deep learning algorithms. AI can understand natural language, recognize images and objects, and even make decisions. It's clear that AI is becoming more sophisticated, leading to exciting advancements and a new level of convenience in our lives.\n",
            "\n",
            "Subtitle: Positive Impact: Improving Efficiency and Enhancing Human Abilities\n",
            "\n",
            "One of the major benefits of AI is its ability to improve efficiency and productivity in various industries. AI-powered machines and software can perform tasks faster and with fewer errors, allowing humans to focus on more complex and creative work. Additionally, AI can enhance human capabilities through tools like speech recognition and translation, making communication easier and helping overcome language barriers.\n",
            "\n",
            "Subtitle: Negative Impact: The Fear of Job Loss and Ethical Concerns\n",
            "\n",
            "Despite its benefits, AI technology has raised concerns about potential job loss. With machines and robots replacing human workers, there is a fear of mass unemployment. However, experts believe that AI will also create new job opportunities in fields like data analysis and programming. Another concern is the ethical implications of AI and its potential to make decisions that may not align with human values.\n",
            "\n",
            "Subtitle: The Future of AI and Humanity: Collaboration for Positive Impact\n",
            "\n",
            "The future of AI and humanity is a complex and constantly evolving concept. As we continue to integrate AI into our lives, it is crucial to address any negative impacts and work towards creating a positive impact. Collaboration between AI scientists, developers, and ethicists is key to ensuring that AI is used ethically and responsibly. By working together, we can harness the full potential of AI while prioritizing the well-being of humanity.\n",
            "\n",
            "Subtitle: Final Thoughts: Embracing the Evolution of AI and Preparing for the Future\n",
            "\n",
            "AI is here to stay, and it will continue to evolve and shape our future. It's important to embrace this evolution and recognize the potential benefits that AI brings. At the same time, we must also address any concerns and work towards mitigating any potential negative impacts. With conscious integration and collaboration, we can pave the way for a future where humanity and AI can coexist and thrive.\n",
            "\n",
            "In conclusion, AI is an unstoppable force that is transforming the way we live and work. While there are concerns and challenges that come with it, there is also immense potential for positive impact. As we move towards the future, it is crucial to have open discussions, address ethical concerns, and work together to harness the full potential of AI for the betterment of humanity. \n"
          ]
        }
      ]
    },
    {
      "cell_type": "code",
      "source": [],
      "metadata": {
        "id": "oZB3R8y8V_jg"
      },
      "execution_count": null,
      "outputs": []
    }
  ]
}